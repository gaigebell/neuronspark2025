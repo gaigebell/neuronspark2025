{
 "cells": [
  {
   "cell_type": "markdown",
   "id": "53376995",
   "metadata": {},
   "source": [
    "### Inspect Data"
   ]
  },
  {
   "cell_type": "code",
   "execution_count": 1,
   "id": "13ba5aef",
   "metadata": {},
   "outputs": [],
   "source": [
    "import pandas as pd\n",
    "import numpy as np\n"
   ]
  },
  {
   "cell_type": "code",
   "execution_count": 2,
   "id": "de2cb7f4",
   "metadata": {},
   "outputs": [],
   "source": [
    "history_df = pd.read_csv('D:/allforwork/AI/nnsp/NS-2025-04-data/train_input.csv') # for what use?\n",
    "rate_df = pd.read_csv('D:/allforwork/AI/nnsp/NS-2025-04-data/train_label.csv')\n",
    "trust_df = pd.read_csv('D:/allforwork/AI/nnsp/NS-2025-04-data/user_trust.csv')\n",
    "test_df = pd.read_csv('D:/allforwork/AI/nnsp/NS-2025-04-data/test_input.csv')"
   ]
  },
  {
   "cell_type": "code",
   "execution_count": 3,
   "id": "42976472",
   "metadata": {},
   "outputs": [],
   "source": [
    "movie_cnt = {}\n",
    "movie_rate = {}\n",
    "\n",
    "rated_user = []\n",
    "for i in range(len(rate_df)):\n",
    "    user = rate_df['userID'].iloc[i]\n",
    "    if user not in rated_user:\n",
    "        rated_user.append(user)\n",
    "    movie = rate_df['movieID'].iloc[i]\n",
    "    if movie not in movie_cnt:\n",
    "        movie_cnt[movie] = 1\n",
    "        movie_rate[movie] = rate_df['movieRating'].iloc[i]\n",
    "    else:\n",
    "        movie_cnt[movie] += 1\n",
    "        movie_rate[movie] += rate_df['movieRating'].iloc[i]\n",
    "\n",
    "test_user = []\n",
    "for i in range(len(test_df)):\n",
    "    user = test_df['userID'].iloc[i]\n",
    "    if user not in test_user:\n",
    "        test_user.append(user)"
   ]
  },
  {
   "cell_type": "code",
   "execution_count": 4,
   "id": "5371196d",
   "metadata": {},
   "outputs": [],
   "source": [
    "for user in rated_user:\n",
    "    if user in test_user:\n",
    "        print(\"yes\")\n",
    "\n",
    "total_user = rated_user + test_user"
   ]
  },
  {
   "cell_type": "code",
   "execution_count": 5,
   "id": "878a8096",
   "metadata": {},
   "outputs": [],
   "source": [
    "movies = []\n",
    "for i in range(len(rate_df)):\n",
    "    movie = rate_df['movieID'].iloc[i]\n",
    "    if movie not in movies:\n",
    "        movies.append(movie)"
   ]
  },
  {
   "cell_type": "code",
   "execution_count": 7,
   "id": "22fbeac0",
   "metadata": {},
   "outputs": [
    {
     "name": "stdout",
     "output_type": "stream",
     "text": [
      "11015 2096\n",
      "26123\n",
      "0.0011314810130529846\n"
     ]
    }
   ],
   "source": [
    "print(len(movies), len(rated_user))\n",
    "print(len(rate_df))\n",
    "print(len(rate_df)/len(movies)/len(rated_user))"
   ]
  },
  {
   "cell_type": "code",
   "execution_count": 6,
   "id": "6f828ebb",
   "metadata": {},
   "outputs": [],
   "source": [
    "movie_avg_rate = []\n",
    "\n",
    "for movie in movie_cnt.keys():\n",
    "    movie_avg_rate.append({\"movie_id\":movie, \"movie_rate\": movie_rate[movie]/ movie_cnt[movie], \"movie_watched\": movie_cnt[movie]})"
   ]
  },
  {
   "cell_type": "code",
   "execution_count": 12,
   "id": "9aa6e7fe",
   "metadata": {},
   "outputs": [
    {
     "name": "stdout",
     "output_type": "stream",
     "text": [
      "[19662, 14477, 14944, 25314, 23112, 11215, 23902, 21453, 18863, 10019]\n"
     ]
    }
   ],
   "source": [
    "movie_avg_rate = sorted(movie_avg_rate, key=lambda x:(x['movie_rate'], x['movie_watched']), reverse=True)\n",
    "top_movies = []\n",
    "for i in range(10):\n",
    "    top_movies.append(int(movie_avg_rate[i]['movie_id']))\n",
    "print(top_movies)"
   ]
  },
  {
   "cell_type": "code",
   "execution_count": 13,
   "id": "baccc93b",
   "metadata": {},
   "outputs": [],
   "source": [
    "top_movies_str = str(top_movies)"
   ]
  },
  {
   "cell_type": "code",
   "execution_count": 16,
   "id": "407756dd",
   "metadata": {},
   "outputs": [],
   "source": [
    "results = []\n",
    "for u in test_user:\n",
    "    results.append({\"userID\":u,\"rank\":top_movies_str})\n",
    "\n",
    "results_df = pd.DataFrame(results)\n",
    "results_df.to_csv(\"D:/allforwork/AI/nnsp/NS-2025-04-data/results.csv\", index=False)"
   ]
  },
  {
   "cell_type": "code",
   "execution_count": null,
   "id": "98eba3e0",
   "metadata": {},
   "outputs": [],
   "source": []
  }
 ],
 "metadata": {
  "kernelspec": {
   "display_name": "sklearn-env",
   "language": "python",
   "name": "python3"
  },
  "language_info": {
   "codemirror_mode": {
    "name": "ipython",
    "version": 3
   },
   "file_extension": ".py",
   "mimetype": "text/x-python",
   "name": "python",
   "nbconvert_exporter": "python",
   "pygments_lexer": "ipython3",
   "version": "3.13.0"
  }
 },
 "nbformat": 4,
 "nbformat_minor": 5
}
