{
 "cells": [
  {
   "cell_type": "code",
   "execution_count": 1,
   "id": "bfc52b6f",
   "metadata": {},
   "outputs": [
    {
     "name": "stderr",
     "output_type": "stream",
     "text": [
      "d:\\Anaconda\\envs\\sklearn-env\\Lib\\site-packages\\tqdm\\auto.py:21: TqdmWarning: IProgress not found. Please update jupyter and ipywidgets. See https://ipywidgets.readthedocs.io/en/stable/user_install.html\n",
      "  from .autonotebook import tqdm as notebook_tqdm\n"
     ]
    }
   ],
   "source": [
    "import json\n",
    "from transformers import AutoTokenizer, AutoModelForCausalLM, pipeline\n",
    "import tqdm"
   ]
  },
  {
   "cell_type": "code",
   "execution_count": 2,
   "id": "e2cf3f53",
   "metadata": {},
   "outputs": [
    {
     "name": "stdout",
     "output_type": "stream",
     "text": [
      "[\"The behavior tree orchestrates a robot's path planning and execution. It first computes a path using the global planner, then runs two sub-branches in parallel. The first sub-branch involves executing the local planner to follow the computed path, while the second sub-branch controls the rate at which new paths are computed by the global planner. The goal for the global planner and the resulting path are stored on the blackboard for communication between different components.\\n\\nThe RateController node regulates the frequency of invoking the ComputePathToPose operation. The Parallel node uses a threshold of 1 to return the result of FollowPath whenever it returns SUCCESS or FAILURE. This ensures that the overall task status reflects the success or failure of the path following operation.\\n\\nIn summary, the behavior tree manages the coordination of global and local path planning and execution for the robot, ensuring continuous path updates and adaptive control based on the robot's progress.\", \"The behavior tree orchestrates a robotic system designed to continuously search for and navigate towards humans. The robot is programmed to repeat this process indefinitely. \\n\\nUpon initialization, the robot sets a server timeout and checks if it's the first run. It then attempts to find a human using various strategies, including rate-controlled searches, path planning, and recovery sequences. If a human is found, the robot navigates towards them while handling potential navigation failures through recovery actions such as clearing costmaps, spinning, and waiting.\\n\\nIf the robot fails to move to the last position or encounters errors during navigation, it triggers recovery mechanisms, updates its state, and resets certain parameters before retrying the navigation process. Additionally, the robot will keep attempting to find a human until successful, with intermittent delays and spins, and reset its internal state if unsuccessful.\\n\\nOverall, the behavior tree governs the continuous operation of a robot searching for and navigating towards humans, employing robust error handling and recovery strategies to ensure reliable performance.\", 'The behavior tree consists of a single sequence that initiates a search. This suggests that the task performed by this behavior tree is to execute a search operation. The details of the search operation, such as the parameters, criteria, or specific actions involved, are not explicitly defined in the provided behavior tree. Therefore, based on the given information, it can be summarized that the behavior tree is designed to trigger and oversee a search process.']\n"
     ]
    }
   ],
   "source": [
    "test_data = []\n",
    "\n",
    "with open(\"D:/allforwork/AI/nnsp/NS-2025-07-data/test_input.json\") as fi:\n",
    "    test_data = json.load(fi)\n",
    "\n",
    "print(test_data[:3])"
   ]
  },
  {
   "cell_type": "code",
   "execution_count": 3,
   "id": "a06d83d5",
   "metadata": {},
   "outputs": [
    {
     "name": "stderr",
     "output_type": "stream",
     "text": [
      "Sliding Window Attention is enabled but not implemented for `sdpa`; unexpected results may be encountered.\n"
     ]
    }
   ],
   "source": [
    "model_name = \"Qwen/Qwen2_5-1_5B-Instruct\"\n",
    "tokenizer = AutoTokenizer.from_pretrained(model_name, trust_remote_mode=True)\n",
    "model = AutoModelForCausalLM.from_pretrained(model_name).to(\"cuda\").eval()"
   ]
  },
  {
   "cell_type": "code",
   "execution_count": 4,
   "id": "c60c7f8c",
   "metadata": {},
   "outputs": [
    {
     "data": {
      "text/plain": [
       "\"你是一个将自然语言指令转换为XML格式行为树的专家，下面给一段英文自然语言指令，请你\\n1.**仔细分析、识别并理解**指令中的所有逻辑和功能\\n2.然后**一一实现**指令中的所有逻辑和功能\\n3.生成对应结构化的XML格式行为树\\n自然语言指令：The behavior tree orchestrates a robot's path planning and execution. It first computes a path using the global planner, then runs two sub-branches in parallel. The first sub-branch involves executing the local planner to follow the computed path, while the second sub-branch controls the rate at which new paths are computed by the global planner. The goal for the global planner and the resulting path are stored on the blackboard for communication between different components.\\n\\nThe RateController node regulates the frequency of invoking the ComputePathToPose operation. The Parallel node uses a threshold of 1 to return the result of FollowPath whenever it returns SUCCESS or FAILURE. This ensures that the overall task status reflects the success or failure of the path following operation.\\n\\nIn summary, the behavior tree manages the coordination of global and local path planning and execution for the robot, ensuring continuous path updates and adaptive control based on the robot's progress.\\n对应的XML格式行为树代码(直接生成代码，无需解释)：\""
      ]
     },
     "execution_count": 4,
     "metadata": {},
     "output_type": "execute_result"
    }
   ],
   "source": [
    "prompt = \"按照以下要求完成将自然语言转换为结构化的 XML 格式行为树的任务：\\n1.生成合法、可解析的XML代码\\n使用标准行为树标签（如 <BehaviorTree>, <Sequence>, <Action> 等）\\n3.符合 Groot 可视化工具的兼容要求\\n4.直接输出且只需输出最终的XML代码，无需解释\\n5.给出的自然语言指令为英语\\n6.确保代码实现了指令中的所有功能\\n英语自然语言指令：\"\n",
    "prompt = \"你是一个将自然语言指令转换为XML格式行为树的专家，下面给一段英文自然语言指令，请你\\n1.**仔细分析、识别并理解**指令中的所有逻辑和功能\\n2.然后**一一实现**指令中的所有逻辑和功能\\n3.生成对应结构化的XML格式行为树\\n自然语言指令：\"\n",
    "for i in range(len(test_data)):\n",
    "    test_data[i] = prompt + test_data[i] + \"\\n对应的XML格式行为树代码(直接生成代码，无需解释)：\"\n",
    "test_data[0]"
   ]
  },
  {
   "cell_type": "code",
   "execution_count": 5,
   "id": "7e9f4e21",
   "metadata": {},
   "outputs": [
    {
     "name": "stderr",
     "output_type": "stream",
     "text": [
      "100%|██████████| 119/119 [13:15<00:00,  6.68s/it]\n"
     ]
    }
   ],
   "source": [
    "results = []\n",
    "for que in tqdm.tqdm(test_data):\n",
    "    messages = [\n",
    "        {\"role\": \"system\", \"content\": \"你是一个将自然语言指令转换为XML格式行为树的专家，根据以下要求完成转换任务：\\n1.生成合法、可解析的XML代码\\n2.符合BehaviorTree.CPP要求，使用标准行为树标签（如 <BehaviorTree>, <Sequence>, <Action> 等）\\n3.符合 Groot 可视化工具的兼容要求\\n4.确保代码实现了指令中的**所有**逻辑和功能\\n\"},\n",
    "        {\"role\": \"user\", \"content\": que}\n",
    "    ]\n",
    "    text = tokenizer.apply_chat_template(\n",
    "        messages,\n",
    "        tokenize=False,\n",
    "        add_generation_prompt=True\n",
    "    )\n",
    "    model_inputs = tokenizer([text], return_tensors=\"pt\").to(\"cuda\")\n",
    "\n",
    "    generated_ids = model.generate(\n",
    "        **model_inputs,\n",
    "        max_new_tokens=5000\n",
    "    )\n",
    "    generated_ids = [\n",
    "        output_ids[len(input_ids):] for input_ids, output_ids in zip(model_inputs.input_ids, generated_ids)\n",
    "    ]\n",
    "\n",
    "    response = tokenizer.batch_decode(generated_ids, skip_special_tokens=True)[0]\n",
    "    results.append(response)"
   ]
  },
  {
   "cell_type": "code",
   "execution_count": 21,
   "id": "9fcfa3d9",
   "metadata": {},
   "outputs": [
    {
     "data": {
      "text/plain": [
       "['```xml\\n<BehaviorTree>\\n    <Sequence>\\n        <Node name=\"Compute Path\">\\n            <Action name=\"Global Planner\" />\\n        </Node>\\n        <Node name=\"Parallel\">\\n            <Threshold name=\"SuccessOrFailure\" value=\"1\" />\\n            <Action name=\"Follow Path\" />\\n        </Node>\\n        <Node name=\"Rate Controller\">\\n            <Action name=\"Invoke Frequency\" />\\n        </Node>\\n    </Sequence>\\n</BehaviorTree>\\n```']"
      ]
     },
     "execution_count": 21,
     "metadata": {},
     "output_type": "execute_result"
    }
   ],
   "source": [
    "results"
   ]
  },
  {
   "cell_type": "code",
   "execution_count": 7,
   "id": "307a723e",
   "metadata": {},
   "outputs": [
    {
     "name": "stderr",
     "output_type": "stream",
     "text": [
      "Device set to use cuda:0\n"
     ]
    }
   ],
   "source": [
    "infer_pipeline = pipeline(\n",
    "    task='text-generation',\n",
    "    model=model,\n",
    "    tokenizer=tokenizer,\n",
    "    device=0\n",
    ")"
   ]
  },
  {
   "cell_type": "code",
   "execution_count": 8,
   "id": "f0e4b569",
   "metadata": {},
   "outputs": [],
   "source": [
    "results = infer_pipeline(test_data, batch_size=1)"
   ]
  },
  {
   "cell_type": "code",
   "execution_count": 6,
   "id": "d5fae7eb",
   "metadata": {},
   "outputs": [
    {
     "data": {
      "text/plain": [
       "'```xml\\n<BehaviorTree>\\n  <Sequence name=\"BatteryCheck\">\\n    <Action name=\"CheckBattery\" />\\n    <Condition name=\"BatteryNeedsRecharge\">\\n      <If condition=\"batteryLevel <= threshold\">\\n        <Action name=\"NavigateToRechargeStation\" />\\n        <Action name=\"InitiateRechargeProcess\" />\\n      </If>\\n    </Condition>\\n  </Sequence>\\n\\n  <Sequence name=\"PatrolMode\">\\n    <Action name=\"EnterPatrolMode\" />\\n    <Repeat name=\"PatrolThroughWaypoints\">\\n      <Action name=\"NavigateToNextWaypoint\" />\\n    </Repeat>\\n  </Sequence>\\n\\n  <Parallel name=\"MainLoop\">\\n    <Sequence name=\"BatteryCheck\">\\n      <Sequence name=\"PatrolMode\">\\n        <Branch>\\n          <If condition=\"batteryLevel > threshold\">\\n            <Action name=\"ContinuePatrol\" />\\n          </If>\\n          <Else>\\n            <Action name=\"ChargeRobot\" />\\n          </Else>\\n        </Branch>\\n      </Sequence>\\n    </Sequence>\\n  </Parallel>\\n</BehaviorTree>\\n```'"
      ]
     },
     "execution_count": 6,
     "metadata": {},
     "output_type": "execute_result"
    }
   ],
   "source": [
    "results[10]"
   ]
  },
  {
   "cell_type": "code",
   "execution_count": 7,
   "id": "2c4023f1",
   "metadata": {},
   "outputs": [
    {
     "data": {
      "text/plain": [
       "'```xml\\n<BehaviorTree>\\n    <RootNode name=\"NavigationWithReplanning\">\\n        <Sequence>\\n            <Action name=\"NavigateWithReplanning\" />\\n            <IfCondition name=\"CheckForFailures\">\\n                <Action name=\"CheckForFailures\" />\\n                <Then>\\n                    <Action name=\"Retry\" />\\n                </Then>\\n                <Else>\\n                    <Action name=\"ClearLocalAndGlobalCostmaps\" />\\n                    <Action name=\"SpinAction\" />\\n                    <Action name=\"WaitDuration\" />\\n                </Else>\\n            </IfCondition>\\n        </Sequence>\\n        <RecoveryFallback name=\"RecoveryFallback\">\\n            <Sequence>\\n                <Action name=\"ClearBothCostmaps\" />\\n                <Action name=\"PerformSpinAction\" />\\n                <Action name=\"WaitDuration\" />\\n            </Sequence>\\n        </RecoveryFallback>\\n    </RootNode>\\n</BehaviorTree>\\n```'"
      ]
     },
     "execution_count": 7,
     "metadata": {},
     "output_type": "execute_result"
    }
   ],
   "source": [
    "results[118]"
   ]
  },
  {
   "cell_type": "code",
   "execution_count": 8,
   "id": "3c0ef2aa",
   "metadata": {},
   "outputs": [],
   "source": [
    "with open(\"D:/allforwork/AI/nnsp/NS-2025-07-data/results.xml\", \"w\") as fi:\n",
    "    for i in range(len(results)):\n",
    "        ans = results[i][6:-3]\n",
    "        print(f'  <item id=\"{i + 1}\"><![CDATA[{ans}  ]]></item>\\n', file=fi)"
   ]
  },
  {
   "cell_type": "code",
   "execution_count": null,
   "id": "b090853e",
   "metadata": {},
   "outputs": [],
   "source": []
  }
 ],
 "metadata": {
  "kernelspec": {
   "display_name": "sklearn-env",
   "language": "python",
   "name": "python3"
  },
  "language_info": {
   "codemirror_mode": {
    "name": "ipython",
    "version": 3
   },
   "file_extension": ".py",
   "mimetype": "text/x-python",
   "name": "python",
   "nbconvert_exporter": "python",
   "pygments_lexer": "ipython3",
   "version": "3.13.0"
  }
 },
 "nbformat": 4,
 "nbformat_minor": 5
}
